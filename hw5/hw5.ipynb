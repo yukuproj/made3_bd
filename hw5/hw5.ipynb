{
  "cells": [
    {
      "cell_type": "markdown",
      "metadata": {
        "id": "view-in-github",
        "colab_type": "text"
      },
      "source": [
        "<a href=\"https://colab.research.google.com/github/yukuproj/made3_bd/blob/main/hw5/hw5.ipynb\" target=\"_parent\"><img src=\"https://colab.research.google.com/assets/colab-badge.svg\" alt=\"Open In Colab\"/></a>"
      ]
    },
    {
      "cell_type": "code",
      "execution_count": 1,
      "metadata": {
        "colab": {
          "base_uri": "https://localhost:8080/"
        },
        "id": "T_f_k-JfjE0p",
        "outputId": "e8d3a70b-46ac-4c5c-c9d0-c249397d850b"
      },
      "outputs": [
        {
          "output_type": "stream",
          "name": "stdout",
          "text": [
            "Looking in indexes: https://pypi.org/simple, https://us-python.pkg.dev/colab-wheels/public/simple/\n",
            "Collecting pyspark\n",
            "  Downloading pyspark-3.3.1.tar.gz (281.4 MB)\n",
            "\u001b[K     |████████████████████████████████| 281.4 MB 31 kB/s \n",
            "\u001b[?25hCollecting py4j==0.10.9.5\n",
            "  Downloading py4j-0.10.9.5-py2.py3-none-any.whl (199 kB)\n",
            "\u001b[K     |████████████████████████████████| 199 kB 64.4 MB/s \n",
            "\u001b[?25hBuilding wheels for collected packages: pyspark\n",
            "  Building wheel for pyspark (setup.py) ... \u001b[?25l\u001b[?25hdone\n",
            "  Created wheel for pyspark: filename=pyspark-3.3.1-py2.py3-none-any.whl size=281845512 sha256=f0cba8ec913d1ca92077f119a94ebf3a584b403e9be962f260554d0f8cda49fb\n",
            "  Stored in directory: /root/.cache/pip/wheels/43/dc/11/ec201cd671da62fa9c5cc77078235e40722170ceba231d7598\n",
            "Successfully built pyspark\n",
            "Installing collected packages: py4j, pyspark\n",
            "Successfully installed py4j-0.10.9.5 pyspark-3.3.1\n"
          ]
        }
      ],
      "source": [
        "# Install pyspark\n",
        "!pip install pyspark"
      ]
    },
    {
      "cell_type": "code",
      "execution_count": 2,
      "metadata": {
        "colab": {
          "base_uri": "https://localhost:8080/"
        },
        "id": "5MMc2e5CKkAD",
        "outputId": "80a5ebe5-f390-43f2-f437-d2313cfa7025"
      },
      "outputs": [
        {
          "output_type": "stream",
          "name": "stdout",
          "text": [
            "Mounted at /content/drive\n"
          ]
        }
      ],
      "source": [
        "from google.colab import drive\n",
        "drive.mount('/content/drive')"
      ]
    },
    {
      "cell_type": "code",
      "execution_count": 3,
      "metadata": {
        "id": "QXJqoXokbD3x"
      },
      "outputs": [],
      "source": [
        "import os\n",
        "import sys\n",
        "\n",
        "import matplotlib.pyplot as plt\n",
        "import pandas as pd\n",
        "from pyspark.ml.classification import LogisticRegression\n",
        "from pyspark.ml.evaluation import BinaryClassificationEvaluator\n",
        "from pyspark.ml.feature import HashingTF, IDF, Word2Vec\n",
        "from pyspark.sql import SparkSession\n",
        "from pyspark.ml.tuning import CrossValidator, ParamGridBuilder\n",
        "\n",
        "class SparkTextModuleAnalys():\n",
        "    def __init__(self):\n",
        "        print(\"initialising...\")\n",
        "        os.environ['PYSPARK_PYTHON'] = sys.executable\n",
        "        os.environ['PYSPARK_DRIVER_PYTHON'] = sys.executable\n",
        "\n",
        "        self.spark = SparkSession.builder\\\n",
        "                .master(\"local[*]\")\\\n",
        "                .appName('PySpark_Tutorial')\\\n",
        "                .getOrCreate()\n",
        "\n",
        "        self.data = None\n",
        "        self.spark_dataframe = None\n",
        "\n",
        "        self.idf = None\n",
        "        self.idf_categories  = None\n",
        "        self.idf_features_index = None\n",
        "\n",
        "        self.w2v = None\n",
        "        self.w2v_categories  = None\n",
        "        self.w2v_sizes = None\n",
        "        print(\"initialising...done\")\n",
        "\n",
        "    def read_data(self, file_name):\n",
        "        print(\"read data...\")\n",
        "        self.data = pd.read_csv(file_name)\n",
        "        print(\"read data...done\")\n",
        "\n",
        "    def clean_data(self):\n",
        "        print(\"clean data..\")\n",
        "        self.data['comment_text'] = self.data['comment_text'].str.lower()\n",
        "        self.data['comment_text'] = self.data['comment_text'].str.replace(r\"[^a-z\\']\", ' ', regex=True).str.split()\n",
        "        print(\"clean data..done\")\n",
        "\n",
        "    def make_spark_dataframe(self):\n",
        "        print(\"making spark dataframe...\")\n",
        "        self.spark_dataframe = self.spark.createDataFrame(self.data)\n",
        "        print(\"making spark dataframe...done\")\n",
        "\n",
        "    def make_idf(self, categories, features_index):    \n",
        "        print(\"making idf...\")\n",
        "        self.idf_categories  = categories\n",
        "        self.idf_features_index = features_index\n",
        "\n",
        "        res = {_: [] for _ in categories}\n",
        "        for feature_one_index in features_index:\n",
        "            for cat in categories:\n",
        "                hashingTF = HashingTF(inputCol=\"comment_text\", outputCol=\"rawFeatures\", numFeatures=feature_one_index)\n",
        "\n",
        "                data_featured = hashingTF.transform(self.spark_dataframe)\n",
        "\n",
        "                idf = IDF(inputCol=\"rawFeatures\", outputCol=\"features\")\n",
        "\n",
        "                idf_model = idf.fit(data_featured)\n",
        "\n",
        "                data_featured_rescaled = idf_model.transform(data_featured)\n",
        "\n",
        "                lr = LogisticRegression(featuresCol='rawFeatures', labelCol=cat)\n",
        "\n",
        "                evaluator = BinaryClassificationEvaluator(labelCol=cat)\n",
        "\n",
        "                grid = ParamGridBuilder().addGrid(lr.maxIter, [0, 1]).build()\n",
        "\n",
        "                cv = CrossValidator(estimator=lr, estimatorParamMaps=grid, evaluator=evaluator,  parallelism=4)\n",
        "                \n",
        "                cv_model = cv.fit(data_featured_rescaled)\n",
        "\n",
        "                res[cat].append(cv_model.avgMetrics[1])\n",
        "\n",
        "        self.idf = res\n",
        "        print(\"making idf...done\") \n",
        "\n",
        "    def plot_idf(self):\n",
        "        print(\"plotting...\")\n",
        "        for cat in self.idf_categories :\n",
        "            plt.plot(self.idf_features_index, self.idf[cat])\n",
        "        plt.legend(self.idf_categories )\n",
        "        plt.xlabel('feature_index')\n",
        "        plt.ylabel('metric')\n",
        "\n",
        "    def make_w2v(self, categories, sizes): \n",
        "        print(\"making w2v...\")\n",
        "        self.w2v_categories  = categories\n",
        "        self.w2v_sizes = sizes\n",
        "        \n",
        "        res = {_: [] for _ in categories}\n",
        "\n",
        "        for size in sizes:\n",
        "            for cat in categories:\n",
        "                print(\"making w2v...\" + \" size=\" + str(size)+\"  category=\"+ str(cat))\n",
        "                print(\"making w2v...\" + \" size=\" + str(size)+\"  category=\"+ str(cat)+ \" word2Vec starting...\")\n",
        "                word2Vec = Word2Vec(vectorSize=size, minCount=0, inputCol=\"comment_text\", outputCol=\"Word2Vec\")\n",
        "                print(\"making w2v...\" + \" size=\" + str(size)+\"  category=\"+ str(cat)+ \" word2Vec starting...done\")\n",
        "\n",
        "                print(\"fit model starting...\")\n",
        "                model = word2Vec.fit(self.spark_dataframe)\n",
        "                print(\"fit model starting... done\")\n",
        "\n",
        "                print(\"transforming starting...\")\n",
        "                result = model.transform(self.spark_dataframe)\n",
        "                print(\"transforming starting...done\")\n",
        "\n",
        "                print(\"logistic regression starting...\")\n",
        "                lr = LogisticRegression(featuresCol='Word2Vec', labelCol=cat)\n",
        "                print(\"logistic regression starting...done\")\n",
        "\n",
        "                print(\"evaluation starting...\")\n",
        "                evaluator = BinaryClassificationEvaluator(labelCol=cat)\n",
        "                print(\"evaluation starting...done\")\n",
        "\n",
        "\n",
        "                print(\"grid starting...\")\n",
        "                grid = ParamGridBuilder().addGrid(lr.maxIter, [0, 1]).build()\n",
        "                print(\"grid starting...done\")\n",
        "\n",
        "                print(\"cv starting...\")\n",
        "                cv = CrossValidator(estimator=lr, estimatorParamMaps=grid, evaluator=evaluator,  parallelism=4)\n",
        "                print(\"cv starting...done\")\n",
        "\n",
        "                print(\"cv model result starting...\")\n",
        "                cvModel = cv.fit(result)\n",
        "                print(\"cv model result starting...done\")\n",
        "                res[cat].append(cvModel.avgMetrics[1])\n",
        "\n",
        "        self.w2v = res\n",
        "\n",
        "    def plot_w2v(self):\n",
        "        for cat in self.w2v_categories:\n",
        "            plt.plot(self.w2v_sizes, self.w2v[cat])\n",
        "        plt.legend(self.w2v_categories)\n",
        "        plt.xlabel('vsize')\n",
        "        plt.ylabel('metric')"
      ]
    },
    {
      "cell_type": "code",
      "execution_count": 4,
      "metadata": {
        "colab": {
          "base_uri": "https://localhost:8080/"
        },
        "id": "Znc5VhsVG7G-",
        "outputId": "4c4b909e-8fec-4f80-d9cb-b0fb111eea66"
      },
      "outputs": [
        {
          "output_type": "stream",
          "name": "stdout",
          "text": [
            "initialising...\n",
            "initialising...done\n",
            "read data...\n",
            "read data...done\n",
            "clean data..\n",
            "clean data..done\n",
            "making spark dataframe...\n",
            "making spark dataframe...done\n"
          ]
        }
      ],
      "source": [
        "    current_analys = SparkTextModuleAnalys()\n",
        "    file_name = \"/content/drive/MyDrive/data/train.csv\" \n",
        "    current_analys.read_data(file_name)\n",
        "    current_analys.clean_data()\n",
        "    current_analys.make_spark_dataframe()"
      ]
    },
    {
      "cell_type": "code",
      "execution_count": null,
      "metadata": {
        "colab": {
          "base_uri": "https://localhost:8080/",
          "height": 471
        },
        "id": "bLnFEX7Db8V_",
        "outputId": "b2d9b23d-154a-41f4-b018-0c63cb441f17"
      },
      "outputs": [
        {
          "name": "stdout",
          "output_type": "stream",
          "text": [
            "initialising...\n",
            "initialising...done\n",
            "read data...\n",
            "read data...done\n",
            "clean data..\n",
            "clean data..done\n",
            "making spark dataframe...\n",
            "making spark dataframe...done\n",
            "making idf...\n",
            "making idf...done\n",
            "plotting...\n"
          ]
        },
        {
          "data": {
            "image/png": "[encoded data removed]",
            "text/plain": [
              "<Figure size 432x288 with 1 Axes>"
            ]
          },
          "metadata": {},
          "output_type": "display_data"
        }
      ],
      "source": [
        "current_analys.make_idf(categories = ['toxic' , 'severe_toxic', 'obscene', 'threat', 'insult', 'identity_hate'],\n",
        "                            features_index = [3, 5, 7])\n",
        "current_analys.plot_idf()"
      ]
    },
    {
      "cell_type": "code",
      "execution_count": null,
      "metadata": {
        "colab": {
          "background_save": true,
          "base_uri": "https://localhost:8080/"
        },
        "id": "6Ym3_lTRtcV5",
        "outputId": "fef0a669-a722-422a-9886-0beb9597e4ac"
      },
      "outputs": [
        {
          "name": "stdout",
          "output_type": "stream",
          "text": [
            "making w2v...\n"
          ]
        }
      ],
      "source": [
        "    \n",
        "#w2v\n",
        "current_analys.make_w2v(categories = ['toxic' , 'severe_toxic', 'obscene', 'threat', 'insult', 'identity_hate'],\n",
        "                            sizes = [3, 5, 7])\n",
        "current_analys.plot_w2v()"
      ]
    },
    {
      "cell_type": "code",
      "execution_count": null,
      "metadata": {
        "colab": {
          "base_uri": "https://localhost:8080/",
          "height": 1000
        },
        "id": "O0KDi1J2_ZVj",
        "outputId": "6c8d610b-b39c-4fb2-ee25-2e723e74d8bf"
      },
      "outputs": [
        {
          "name": "stdout",
          "output_type": "stream",
          "text": [
            "making w2v...\n",
            "making w2v... size=3  category=toxic\n",
            "making w2v... size=3  category=toxic word2Vec starting...\n",
            "making w2v... size=3  category=toxic word2Vec starting...done\n",
            "fit model starting...\n",
            "fit model starting... done\n",
            "transforming starting...\n",
            "transforming starting...done\n",
            "logistic regression starting...\n",
            "logistic regression starting...done\n",
            "evaluation starting...\n",
            "evaluation starting...done\n",
            "grid starting...\n",
            "grid starting...done\n",
            "cv starting...\n",
            "cv starting...done\n",
            "cv model result starting...\n",
            "cv model result starting...done\n",
            "making w2v... size=5  category=toxic\n",
            "making w2v... size=5  category=toxic word2Vec starting...\n",
            "making w2v... size=5  category=toxic word2Vec starting...done\n",
            "fit model starting...\n",
            "fit model starting... done\n",
            "transforming starting...\n",
            "transforming starting...done\n",
            "logistic regression starting...\n",
            "logistic regression starting...done\n",
            "evaluation starting...\n",
            "evaluation starting...done\n",
            "grid starting...\n",
            "grid starting...done\n",
            "cv starting...\n",
            "cv starting...done\n",
            "cv model result starting...\n",
            "cv model result starting...done\n",
            "making w2v... size=7  category=toxic\n",
            "making w2v... size=7  category=toxic word2Vec starting...\n",
            "making w2v... size=7  category=toxic word2Vec starting...done\n",
            "fit model starting...\n",
            "fit model starting... done\n",
            "transforming starting...\n",
            "transforming starting...done\n",
            "logistic regression starting...\n",
            "logistic regression starting...done\n",
            "evaluation starting...\n",
            "evaluation starting...done\n",
            "grid starting...\n",
            "grid starting...done\n",
            "cv starting...\n",
            "cv starting...done\n",
            "cv model result starting...\n",
            "cv model result starting...done\n"
          ]
        },
        {
          "data": {
            "image/png": "[encoded data removed]",
            "text/plain": [
              "<Figure size 432x288 with 1 Axes>"
            ]
          },
          "metadata": {},
          "output_type": "display_data"
        }
      ],
      "source": [
        "#w2v\n",
        "current_analys.make_w2v(categories = ['toxic'],\n",
        "                            sizes = [3, 5, 7])\n",
        "current_analys.plot_w2v()"
      ]
    },
    {
      "cell_type": "markdown",
      "metadata": {
        "id": "mCO_LU8XQqnU"
      },
      "source": [
        "We can see that the quality is much bigger (~90%) than in idf model for model with only one category. (to run model with multi label is very time-consuming. In colab.research.google.com it took me several hours to run the model and it hadn't yet completed, so it's reasonable to run only simplier models with only two classes)"
      ]
    },
    {
      "cell_type": "code",
      "execution_count": 5,
      "metadata": {
        "colab": {
          "base_uri": "https://localhost:8080/",
          "height": 1000
        },
        "id": "sKwIDqtuQSG1",
        "outputId": "0da50f0a-44a7-4609-af0c-8575d76c26a4"
      },
      "outputs": [
        {
          "output_type": "stream",
          "name": "stdout",
          "text": [
            "making w2v...\n",
            "making w2v... size=3  category=severe_toxic\n",
            "making w2v... size=3  category=severe_toxic word2Vec starting...\n",
            "making w2v... size=3  category=severe_toxic word2Vec starting...done\n",
            "fit model starting...\n",
            "fit model starting... done\n",
            "transforming starting...\n",
            "transforming starting...done\n",
            "logistic regression starting...\n",
            "logistic regression starting...done\n",
            "evaluation starting...\n",
            "evaluation starting...done\n",
            "grid starting...\n",
            "grid starting...done\n",
            "cv starting...\n",
            "cv starting...done\n",
            "cv model result starting...\n",
            "cv model result starting...done\n",
            "making w2v... size=5  category=severe_toxic\n",
            "making w2v... size=5  category=severe_toxic word2Vec starting...\n",
            "making w2v... size=5  category=severe_toxic word2Vec starting...done\n",
            "fit model starting...\n",
            "fit model starting... done\n",
            "transforming starting...\n",
            "transforming starting...done\n",
            "logistic regression starting...\n",
            "logistic regression starting...done\n",
            "evaluation starting...\n",
            "evaluation starting...done\n",
            "grid starting...\n",
            "grid starting...done\n",
            "cv starting...\n",
            "cv starting...done\n",
            "cv model result starting...\n",
            "cv model result starting...done\n",
            "making w2v... size=7  category=severe_toxic\n",
            "making w2v... size=7  category=severe_toxic word2Vec starting...\n",
            "making w2v... size=7  category=severe_toxic word2Vec starting...done\n",
            "fit model starting...\n",
            "fit model starting... done\n",
            "transforming starting...\n",
            "transforming starting...done\n",
            "logistic regression starting...\n",
            "logistic regression starting...done\n",
            "evaluation starting...\n",
            "evaluation starting...done\n",
            "grid starting...\n",
            "grid starting...done\n",
            "cv starting...\n",
            "cv starting...done\n",
            "cv model result starting...\n",
            "cv model result starting...done\n"
          ]
        },
        {
          "output_type": "display_data",
          "data": {
            "text/plain": [
              "<Figure size 432x288 with 1 Axes>"
            ],
            "image/png": "[encoded data removed]"
          },
          "metadata": {
            "needs_background": "light"
          }
        }
      ],
      "source": [
        "#w2v\n",
        "current_analys.make_w2v(categories = ['severe_toxic'],\n",
        "                            sizes = [3, 5, 7])\n",
        "current_analys.plot_w2v()"
      ]
    },
    {
      "cell_type": "markdown",
      "source": [
        "As we can see the qualtity is much bigger than in idf model as well. AUROC = 97%\n"
      ],
      "metadata": {
        "id": "FipA1AXuNTvn"
      }
    }
  ],
  "metadata": {
    "colab": {
      "provenance": [],
      "include_colab_link": true
    },
    "gpuClass": "standard",
    "kernelspec": {
      "display_name": "Python 3 (ipykernel)",
      "language": "python",
      "name": "python3"
    },
    "language_info": {
      "codemirror_mode": {
        "name": "ipython",
        "version": 3
      },
      "file_extension": ".py",
      "mimetype": "text/x-python",
      "name": "python",
      "nbconvert_exporter": "python",
      "pygments_lexer": "ipython3",
      "version": "3.10.7"
    }
  },
  "nbformat": 4,
  "nbformat_minor": 0
}